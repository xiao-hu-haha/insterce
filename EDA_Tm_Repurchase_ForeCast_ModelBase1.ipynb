{
 "cells": [
  {
   "cell_type": "code",
   "execution_count": 2,
   "metadata": {
    "collapsed": true,
    "ExecuteTime": {
     "end_time": "2025-02-13T03:40:39.400594Z",
     "start_time": "2025-02-13T03:40:39.395019Z"
    }
   },
   "outputs": [],
   "source": [
    "import numpy as np\n",
    "import pandas as pd\n",
    "import matplotlib.pyplot as plt\n",
    "import seaborn as sns\n",
    "from scipy import stats\n",
    "\n",
    "import warnings\n",
    "warnings.filterwarnings(\"ignore\")\n",
    "\n",
    "%matplotlib inline\n",
    "\n",
    "def reduce_mem_usage(df):\n",
    "\t\"\"\" iterate through all the columns of a dataframe and modify the data type\n",
    "\t\tto reduce memory usage.\n",
    "\t\"\"\"\n",
    "\tstart_mem = df.memory_usage().sum() / 1024 ** 2\n",
    "\tprint('Memory usage of dataframe is {:.2f} MB'.format(start_mem))\n",
    "\n",
    "\tfor col in df.columns:\n",
    "\t\tcol_type = df[col].dtype\n",
    "\n",
    "\t\tif col_type != object:\n",
    "\t\t\tc_min = df[col].min()\n",
    "\t\t\tc_max = df[col].max()\n",
    "\t\t\tif str(col_type)[:3] == 'int':\n",
    "\t\t\t\tif c_min > np.iinfo(np.int8).min and c_max < np.iinfo(np.int8).max:\n",
    "\t\t\t\t\tdf[col] = df[col].astype(np.int8)\n",
    "\t\t\t\telif c_min > np.iinfo(np.int16).min and c_max < np.iinfo(np.int16).max:\n",
    "\t\t\t\t\tdf[col] = df[col].astype(np.int16)\n",
    "\t\t\t\telif c_min > np.iinfo(np.int32).min and c_max < np.iinfo(np.int32).max:\n",
    "\t\t\t\t\tdf[col] = df[col].astype(np.int32)\n",
    "\t\t\t\telif c_min > np.iinfo(np.int64).min and c_max < np.iinfo(np.int64).max:\n",
    "\t\t\t\t\tdf[col] = df[col].astype(np.int64)\n",
    "\t\t\telse:\n",
    "\t\t\t\tif c_min > np.finfo(np.float16).min and c_max < np.finfo(np.float16).max:\n",
    "\t\t\t\t\tdf[col] = df[col].astype(np.float16)\n",
    "\t\t\t\telif c_min > np.finfo(np.float32).min and c_max < np.finfo(np.float32).max:\n",
    "\t\t\t\t\tdf[col] = df[col].astype(np.float32)\n",
    "\t\t\t\telse:\n",
    "\t\t\t\t\tdf[col] = df[col].astype(np.float64)\n",
    "\t\telse:\n",
    "\t\t\tdf[col] = df[col].astype('category')\n",
    "\tend_mem = df.memory_usage().sum() / 1024 ** 2\n",
    "\tprint('Memory usage after optimization is: {:.2f} MB'.format(end_mem))\n",
    "\tprint('Decreased by {:.1f}%'.format(100 * (start_mem - end_mem) / start_mem))\n",
    "\n",
    "\treturn df\n",
    "\n",
    "# 数据读取优化\n",
    "def import_data(file, **kwargs):\n",
    "\t\"\"\"create a dataframe and optimize its memory usage\"\"\"\n",
    "\tdf = pd.read_csv(file, parse_dates=True, keep_date_col=True, **kwargs)\n",
    "\tdf = reduce_mem_usage(df)\n",
    "\treturn df\n",
    "\n",
    "# print fmt\n",
    "def print_fmt(display_text, data):\n",
    "\tprint(f\"---------------------{display_text} START---------------------------\")\n",
    "\tprint(data)\n",
    "\tprint(f\"---------------------{display_text} END-----------------------------\\n\")"
   ]
  },
  {
   "cell_type": "code",
   "execution_count": 4,
   "outputs": [
    {
     "name": "stdout",
     "output_type": "stream",
     "text": [
      "Memory usage of dataframe is 5.97 MB\n",
      "Memory usage after optimization is: 1.74 MB\n",
      "Decreased by 70.8%\n",
      "Memory usage of dataframe is 5.98 MB\n",
      "Memory usage after optimization is: 3.49 MB\n",
      "Decreased by 41.7%\n",
      "Memory usage of dataframe is 9.71 MB\n",
      "Memory usage after optimization is: 3.24 MB\n",
      "Decreased by 66.7%\n",
      "Memory usage of dataframe is 2933.33 MB\n",
      "Memory usage after optimization is: 890.48 MB\n",
      "Decreased by 69.6%\n",
      "---------------------user_log START---------------------------\n",
      "          user_id  item_id  cat_id  seller_id  brand_id  time_stamp  \\\n",
      "0          328862   323294     833       2882    2660.0         829   \n",
      "1          328862   844400    1271       2882    2660.0         829   \n",
      "2          328862   575153    1271       2882    2660.0         829   \n",
      "3          328862   996875    1271       2882    2660.0         829   \n",
      "4          328862  1086186    1271       1253    1049.0         829   \n",
      "...           ...      ...     ...        ...       ...         ...   \n",
      "54925325   208016   107662     898       1346    7996.0        1110   \n",
      "54925326   208016  1058313     898       1346    7996.0        1110   \n",
      "54925327   208016   449814     898        983    7996.0        1110   \n",
      "54925328   208016   634856     898       1346    7996.0        1110   \n",
      "54925329   208016   272094     898       1346    7996.0        1111   \n",
      "\n",
      "          action_type  \n",
      "0                   0  \n",
      "1                   0  \n",
      "2                   0  \n",
      "3                   0  \n",
      "4                   0  \n",
      "...               ...  \n",
      "54925325            0  \n",
      "54925326            0  \n",
      "54925327            0  \n",
      "54925328            0  \n",
      "54925329            0  \n",
      "\n",
      "[54925330 rows x 7 columns]\n",
      "---------------------user_log END-----------------------------\n",
      "\n"
     ]
    }
   ],
   "source": [
    "train_data = import_data(\"./tmdata/train_format1.csv\")\n",
    "test_data = import_data(\"./tmdata/test_format1.csv\")\n",
    "user_info = import_data(\"./tmdata/user_info_format1.csv\")\n",
    "user_log  = import_data(\"./tmdata/user_log_format1.csv\")\n",
    "print_fmt(\"user_log\", user_log)"
   ],
   "metadata": {
    "collapsed": false,
    "ExecuteTime": {
     "end_time": "2025-02-13T03:42:17.248601Z",
     "start_time": "2025-02-13T03:42:04.438652Z"
    }
   }
  },
  {
   "cell_type": "code",
   "execution_count": 5,
   "outputs": [
    {
     "data": {
      "text/plain": "   user_id  merchant_id  label\n0    34176         3906      0\n1    34176          121      0\n2    34176         4356      1\n3    34176         2217      0\n4   230784         4818      0",
      "text/html": "<div>\n<style scoped>\n    .dataframe tbody tr th:only-of-type {\n        vertical-align: middle;\n    }\n\n    .dataframe tbody tr th {\n        vertical-align: top;\n    }\n\n    .dataframe thead th {\n        text-align: right;\n    }\n</style>\n<table border=\"1\" class=\"dataframe\">\n  <thead>\n    <tr style=\"text-align: right;\">\n      <th></th>\n      <th>user_id</th>\n      <th>merchant_id</th>\n      <th>label</th>\n    </tr>\n  </thead>\n  <tbody>\n    <tr>\n      <th>0</th>\n      <td>34176</td>\n      <td>3906</td>\n      <td>0</td>\n    </tr>\n    <tr>\n      <th>1</th>\n      <td>34176</td>\n      <td>121</td>\n      <td>0</td>\n    </tr>\n    <tr>\n      <th>2</th>\n      <td>34176</td>\n      <td>4356</td>\n      <td>1</td>\n    </tr>\n    <tr>\n      <th>3</th>\n      <td>34176</td>\n      <td>2217</td>\n      <td>0</td>\n    </tr>\n    <tr>\n      <th>4</th>\n      <td>230784</td>\n      <td>4818</td>\n      <td>0</td>\n    </tr>\n  </tbody>\n</table>\n</div>"
     },
     "execution_count": 5,
     "metadata": {},
     "output_type": "execute_result"
    }
   ],
   "source": [
    "train_data.head(5)"
   ],
   "metadata": {
    "collapsed": false,
    "ExecuteTime": {
     "end_time": "2025-02-13T04:00:08.854765Z",
     "start_time": "2025-02-13T04:00:08.837965Z"
    }
   }
  },
  {
   "cell_type": "code",
   "execution_count": null,
   "outputs": [],
   "source": [],
   "metadata": {
    "collapsed": false
   }
  }
 ],
 "metadata": {
  "kernelspec": {
   "display_name": "Python 3",
   "language": "python",
   "name": "python3"
  },
  "language_info": {
   "codemirror_mode": {
    "name": "ipython",
    "version": 2
   },
   "file_extension": ".py",
   "mimetype": "text/x-python",
   "name": "python",
   "nbconvert_exporter": "python",
   "pygments_lexer": "ipython2",
   "version": "2.7.6"
  }
 },
 "nbformat": 4,
 "nbformat_minor": 0
}
