{
 "cells": [
  {
   "cell_type": "code",
   "id": "initial_id",
   "metadata": {
    "collapsed": true,
    "ExecuteTime": {
     "end_time": "2025-02-13T02:27:54.874045Z",
     "start_time": "2025-02-13T02:27:11.098072Z"
    }
   },
   "source": "",
   "outputs": [
    {
     "name": "stdout",
     "output_type": "stream",
     "text": [
      "Requirement already satisfied: pip in c:\\users\\s\\pycharm\\lib\\site-packages (23.3.1)\n",
      "Collecting pip\n",
      "  Downloading pip-25.0.1-py3-none-any.whl.metadata (3.7 kB)\n",
      "Downloading pip-25.0.1-py3-none-any.whl (1.8 MB)\n",
      "   ---------------------------------------- 0.0/1.8 MB ? eta -:--:--\n",
      "   ---------------------------------------- 0.0/1.8 MB ? eta -:--:--\n",
      "    --------------------------------------- 0.0/1.8 MB 435.7 kB/s eta 0:00:05\n",
      "   -- ------------------------------------- 0.1/1.8 MB 837.8 kB/s eta 0:00:03\n",
      "   ---- ----------------------------------- 0.2/1.8 MB 1.1 MB/s eta 0:00:02\n",
      "   ------- -------------------------------- 0.3/1.8 MB 1.7 MB/s eta 0:00:01\n",
      "   ------------- -------------------------- 0.6/1.8 MB 2.4 MB/s eta 0:00:01\n",
      "   --------------------- ------------------ 1.0/1.8 MB 3.5 MB/s eta 0:00:01\n",
      "   --------------------- ------------------ 1.0/1.8 MB 3.5 MB/s eta 0:00:01\n",
      "   ---------------------------- ----------- 1.3/1.8 MB 3.5 MB/s eta 0:00:01\n",
      "   ---------------------------- ----------- 1.3/1.8 MB 3.5 MB/s eta 0:00:01\n",
      "   ------------------------------ --------- 1.4/1.8 MB 2.9 MB/s eta 0:00:01\n",
      "   ------------------------------ --------- 1.4/1.8 MB 2.9 MB/s eta 0:00:01\n",
      "   ------------------------------- -------- 1.4/1.8 MB 2.6 MB/s eta 0:00:01\n",
      "   -------------------------------- ------- 1.5/1.8 MB 2.4 MB/s eta 0:00:01\n",
      "   ---------------------------------- ----- 1.6/1.8 MB 2.4 MB/s eta 0:00:01\n",
      "   ------------------------------------ --- 1.7/1.8 MB 2.4 MB/s eta 0:00:01\n",
      "   ------------------------------------- -- 1.7/1.8 MB 2.2 MB/s eta 0:00:01\n",
      "   -------------------------------------- - 1.8/1.8 MB 2.1 MB/s eta 0:00:01\n",
      "   ---------------------------------------- 1.8/1.8 MB 2.2 MB/s eta 0:00:00\n"
     ]
    },
    {
     "name": "stderr",
     "output_type": "stream",
     "text": [
      "ERROR: To modify pip, please run the following command:\n",
      "C:\\Users\\s\\pycharm\\python.exe -m pip install --upgrade pip\n"
     ]
    }
   ],
   "execution_count": 1
  }
 ],
 "metadata": {
  "kernelspec": {
   "display_name": "Python 3",
   "language": "python",
   "name": "python3"
  },
  "language_info": {
   "codemirror_mode": {
    "name": "ipython",
    "version": 2
   },
   "file_extension": ".py",
   "mimetype": "text/x-python",
   "name": "python",
   "nbconvert_exporter": "python",
   "pygments_lexer": "ipython2",
   "version": "2.7.6"
  }
 },
 "nbformat": 4,
 "nbformat_minor": 5
}
